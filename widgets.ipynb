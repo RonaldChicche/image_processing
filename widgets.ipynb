{
 "cells": [
  {
   "cell_type": "markdown",
   "metadata": {},
   "source": [
    "---\n",
    "# Widgets with jupyter notebook"
   ]
  },
  {
   "cell_type": "code",
   "execution_count": 1,
   "metadata": {},
   "outputs": [],
   "source": [
    "import ipywidgets\n",
    "import numpy as np\n",
    "import matplotlib.pyplot as plt"
   ]
  },
  {
   "cell_type": "code",
   "execution_count": 2,
   "metadata": {},
   "outputs": [],
   "source": [
    "# On vscode install ipywidgets==7.7.1 , from v8 on it is not working\n",
    "x = np.random.uniform(0, 5, size=100)\n",
    "noise = np.random.normal(size=100)\n",
    "def plot_fct(w=1):\n",
    "    y = 2 * x + w * noise\n",
    "    plt.scatter(x, y)"
   ]
  },
  {
   "cell_type": "code",
   "execution_count": 3,
   "metadata": {},
   "outputs": [
    {
     "data": {
      "application/vnd.jupyter.widget-view+json": {
       "model_id": "11c36182fddb477cbad7c9219f205cf9",
       "version_major": 2,
       "version_minor": 0
      },
      "text/plain": [
       "interactive(children=(FloatSlider(value=1.0, description='w', max=5.0, step=0.5), Output()), _dom_classes=('wi…"
      ]
     },
     "metadata": {},
     "output_type": "display_data"
    },
    {
     "data": {
      "text/plain": [
       "<function __main__.plot_fct(w=1)>"
      ]
     },
     "execution_count": 3,
     "metadata": {},
     "output_type": "execute_result"
    }
   ],
   "source": [
    "ipywidgets.interact(plot_fct, w=(0,5,0.5))"
   ]
  },
  {
   "cell_type": "code",
   "execution_count": 4,
   "metadata": {},
   "outputs": [],
   "source": [
    "from sklearn.datasets import make_moons\n",
    "\n",
    "def plot_moons(samples=200, noise=0):\n",
    "    moons = make_moons(n_samples=samples, noise=noise)\n",
    "    x, y = moons[0], moons[1]\n",
    "    plt.scatter(x[:, 0], x[:, 1], c=y)\n"
   ]
  },
  {
   "cell_type": "code",
   "execution_count": 5,
   "metadata": {},
   "outputs": [
    {
     "data": {
      "application/vnd.jupyter.widget-view+json": {
       "model_id": "659eceb18a1842e9b6f100be5ed8d0d3",
       "version_major": 2,
       "version_minor": 0
      },
      "text/plain": [
       "interactive(children=(Dropdown(description='samples', options=(200, 500, 1000), value=200), FloatSlider(value=…"
      ]
     },
     "metadata": {},
     "output_type": "display_data"
    },
    {
     "data": {
      "text/plain": [
       "<function __main__.plot_moons(samples=200, noise=0)>"
      ]
     },
     "execution_count": 5,
     "metadata": {},
     "output_type": "execute_result"
    }
   ],
   "source": [
    "ipywidgets.interact(plot_moons, samples=[200, 500, 1000], noise=(0, 2, 0.025))"
   ]
  },
  {
   "cell_type": "code",
   "execution_count": 6,
   "metadata": {},
   "outputs": [],
   "source": [
    "def plot_sin(start=0, end=30, factor=1, grid=False, plot_cos=False):\n",
    "    x = np.linspace(start, end, (end-start) * 10)\n",
    "    y = np.sin(x) * factor\n",
    "    plt.grid(grid)\n",
    "    plt.plot(x, y)\n",
    "    if plot_cos:\n",
    "        y = np.cos(x)\n",
    "        plt.plot(x, y)"
   ]
  },
  {
   "cell_type": "code",
   "execution_count": 7,
   "metadata": {},
   "outputs": [
    {
     "data": {
      "application/vnd.jupyter.widget-view+json": {
       "model_id": "367a257ceb8e41c8be9772122cc2d260",
       "version_major": 2,
       "version_minor": 0
      },
      "text/plain": [
       "interactive(children=(IntSlider(value=0, description='start', max=10), IntSlider(value=30, description='end', …"
      ]
     },
     "metadata": {},
     "output_type": "display_data"
    },
    {
     "data": {
      "text/plain": [
       "<function __main__.plot_sin(start=0, end=30, factor=1, grid=False, plot_cos=False)>"
      ]
     },
     "execution_count": 7,
     "metadata": {},
     "output_type": "execute_result"
    }
   ],
   "source": [
    "ipywidgets.interact(plot_sin, start=(0, 10, 1), end=(20, 50, 1), factor=(0, 5, 0.1), grid=False)"
   ]
  },
  {
   "cell_type": "code",
   "execution_count": 8,
   "metadata": {},
   "outputs": [],
   "source": [
    "import math\n",
    "\n",
    "def plto_sigmoid(x_in=0):\n",
    "    x = np.linspace(-5, 5, 1000)\n",
    "    y = 1 / (1 + np.exp(-x))\n",
    "    y_in = 1 / (1 + math.exp(-x_in))\n",
    "\n",
    "    plt.plot(x, y)\n",
    "    plt.scatter(x_in, y_in, c='r')\n",
    "    plt.plot([x_in, x_in], [0, y_in], \"r--\")\n",
    "    plt.plot([-5, x_in], [y_in, y_in], \"r--\")\n"
   ]
  },
  {
   "cell_type": "code",
   "execution_count": 9,
   "metadata": {},
   "outputs": [
    {
     "data": {
      "application/vnd.jupyter.widget-view+json": {
       "model_id": "a5a8fd124d614101948f6cc7f0b1e9f4",
       "version_major": 2,
       "version_minor": 0
      },
      "text/plain": [
       "interactive(children=(FloatSlider(value=0.0, description='x_in', max=5.0, min=-5.0), Button(description='Run I…"
      ]
     },
     "metadata": {},
     "output_type": "display_data"
    },
    {
     "data": {
      "text/plain": [
       "<function __main__.plto_sigmoid(x_in=0)>"
      ]
     },
     "execution_count": 9,
     "metadata": {},
     "output_type": "execute_result"
    }
   ],
   "source": [
    "# ipywidgets.interact(plto_sigmoid, x_in=(-5, 5, 0.1))\n",
    "ipywidgets.interact_manual(plto_sigmoid, x_in=(-5, 5, 0.1))"
   ]
  }
 ],
 "metadata": {
  "kernelspec": {
   "display_name": "imgpro",
   "language": "python",
   "name": "python3"
  },
  "language_info": {
   "codemirror_mode": {
    "name": "ipython",
    "version": 3
   },
   "file_extension": ".py",
   "mimetype": "text/x-python",
   "name": "python",
   "nbconvert_exporter": "python",
   "pygments_lexer": "ipython3",
   "version": "3.11.4"
  },
  "orig_nbformat": 4
 },
 "nbformat": 4,
 "nbformat_minor": 2
}
